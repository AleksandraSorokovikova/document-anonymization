{
 "cells": [
  {
   "cell_type": "code",
   "metadata": {},
   "source": [
    "import sys\n",
    "import os"
   ],
   "outputs": [],
   "execution_count": null
  },
  {
   "cell_type": "code",
   "metadata": {},
   "source": [
    "from src.train_layoutlm import prepare_trainer\n",
    "\n",
    "path_to_dataset=\"dataset\"\n",
    "path_to_model_weights=\"weights\"\n",
    "model_name=\"microsoft/layoutlmv3-base\"\n",
    "processor_name=\"microsoft/layoutlmv3-base\"\n",
    "\n",
    "learning_rate=5e-5\n",
    "return_entity_level_metrics=False"
   ],
   "outputs": [],
   "execution_count": null
  },
  {
   "cell_type": "code",
   "metadata": {},
   "source": [
    "trainer, processor, model, test_dataset = prepare_trainer(\n",
    "    path_to_dataset=path_to_dataset,\n",
    "    path_to_model_weights=path_to_model_weights,\n",
    "    model_name=model_name,\n",
    "    processor_name=processor_name,\n",
    "    learning_rate=learning_rate,\n",
    "    return_entity_level_metrics=return_entity_level_metrics\n",
    ")"
   ],
   "outputs": [],
   "execution_count": null
  },
  {
   "cell_type": "code",
   "metadata": {},
   "source": [
    "trainer.train()"
   ],
   "outputs": [],
   "execution_count": null
  },
  {
   "cell_type": "code",
   "metadata": {},
   "source": [
    "trainer.save_model(\"weights/base_finetuned\")"
   ],
   "outputs": [],
   "execution_count": null
  },
  {
   "cell_type": "code",
   "metadata": {},
   "source": "",
   "outputs": [],
   "execution_count": null
  }
 ],
 "metadata": {
  "kernelspec": {
   "display_name": "venv",
   "language": "python",
   "name": "python3"
  },
  "language_info": {
   "codemirror_mode": {
    "name": "ipython",
    "version": 3
   },
   "file_extension": ".py",
   "mimetype": "text/x-python",
   "name": "python",
   "nbconvert_exporter": "python",
   "pygments_lexer": "ipython3",
   "version": "3.10.12"
  }
 },
 "nbformat": 4,
 "nbformat_minor": 2
}
