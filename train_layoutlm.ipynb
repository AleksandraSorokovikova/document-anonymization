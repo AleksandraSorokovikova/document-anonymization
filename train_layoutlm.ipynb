{
 "cells": [
  {
   "metadata": {
    "ExecuteTime": {
     "end_time": "2025-05-14T11:08:50.294951Z",
     "start_time": "2025-05-14T11:07:57.408864Z"
    }
   },
   "cell_type": "code",
   "source": [
    "from src.dataset_processing import split_layoutlm_dataset\n",
    "\n",
    "# to launch the code, you need to have SAND dataset in the root folder\n",
    "split_layoutlm_dataset(\n",
    "    path_to_folder=\"SAND/augmented\",\n",
    "    output_path=\"sand_dataset\",\n",
    "    doc_path=\"SAND/documents.json\"\n",
    ")"
   ],
   "outputs": [
    {
     "name": "stdout",
     "output_type": "stream",
     "text": [
      "Test size: 500\n"
     ]
    },
    {
     "data": {
      "text/plain": [
       "Saving the dataset (0/3 shards):   0%|          | 0/4000 [00:00<?, ? examples/s]"
      ],
      "application/vnd.jupyter.widget-view+json": {
       "version_major": 2,
       "version_minor": 0,
       "model_id": "17f3b03b9ae147de97c1ec73c5e58c1d"
      }
     },
     "metadata": {},
     "output_type": "display_data"
    },
    {
     "data": {
      "text/plain": [
       "Saving the dataset (0/1 shards):   0%|          | 0/500 [00:00<?, ? examples/s]"
      ],
      "application/vnd.jupyter.widget-view+json": {
       "version_major": 2,
       "version_minor": 0,
       "model_id": "ad6db2f8d59f4889b98f7dfecf69663a"
      }
     },
     "metadata": {},
     "output_type": "display_data"
    },
    {
     "data": {
      "text/plain": [
       "Saving the dataset (0/1 shards):   0%|          | 0/500 [00:00<?, ? examples/s]"
      ],
      "application/vnd.jupyter.widget-view+json": {
       "version_major": 2,
       "version_minor": 0,
       "model_id": "a38a1deb43584cbf9e0affb18fd040aa"
      }
     },
     "metadata": {},
     "output_type": "display_data"
    }
   ],
   "execution_count": 1
  },
  {
   "metadata": {},
   "cell_type": "code",
   "outputs": [],
   "execution_count": null,
   "source": [
    "from src.train_layoutlm import prepare_trainer\n",
    "\n",
    "# sand_dataset is SAND dataset in huggingface datasets format\n",
    "# it can be obtained after running dataset_processing.split_layoutlm_dataset function\n",
    "# or by launching the code in the first cell of this notebook\n",
    "\n",
    "path_to_dataset=\"sand_dataset\"\n",
    "path_to_model_weights=\"weights\"\n",
    "model_name=\"microsoft/layoutlmv3-base\"\n",
    "processor_name=\"microsoft/layoutlmv3-base\"\n",
    "\n",
    "learning_rate=5e-5\n",
    "seed=42"
   ]
  },
  {
   "cell_type": "code",
   "metadata": {},
   "source": [
    "trainer, processor, model, test_dataset = prepare_trainer(\n",
    "    path_to_dataset=path_to_dataset,\n",
    "    path_to_model_weights=path_to_model_weights,\n",
    "    model_name=model_name,\n",
    "    processor_name=processor_name,\n",
    "    learning_rate=learning_rate,\n",
    "    seed=seed,\n",
    ")"
   ],
   "outputs": [],
   "execution_count": null
  },
  {
   "cell_type": "code",
   "metadata": {},
   "source": [
    "trainer.train()"
   ],
   "outputs": [],
   "execution_count": null
  },
  {
   "cell_type": "code",
   "metadata": {},
   "source": "trainer.save_model(f\"weights/base_finetuned_{seed}\")",
   "outputs": [],
   "execution_count": null
  },
  {
   "metadata": {},
   "cell_type": "code",
   "outputs": [],
   "execution_count": null,
   "source": ""
  }
 ],
 "metadata": {
  "kernelspec": {
   "display_name": "venv",
   "language": "python",
   "name": "python3"
  },
  "language_info": {
   "codemirror_mode": {
    "name": "ipython",
    "version": 3
   },
   "file_extension": ".py",
   "mimetype": "text/x-python",
   "name": "python",
   "nbconvert_exporter": "python",
   "pygments_lexer": "ipython3",
   "version": "3.10.12"
  }
 },
 "nbformat": 4,
 "nbformat_minor": 2
}
