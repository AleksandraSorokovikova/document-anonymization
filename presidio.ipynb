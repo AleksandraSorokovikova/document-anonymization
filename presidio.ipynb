{
 "cells": [
  {
   "metadata": {
    "ExecuteTime": {
     "end_time": "2025-04-03T12:34:13.319898Z",
     "start_time": "2025-04-03T12:34:12.530600Z"
    }
   },
   "cell_type": "code",
   "source": [
    "import os\n",
    "from tqdm import tqdm\n",
    "from PIL import Image\n",
    "import json\n",
    "from src.config import pii_entities_colors_rgba\n",
    "from PIL import ImageDraw, ImageFont\n",
    "from presidio_image_redactor import ImageRedactorEngine\n",
    "\n",
    "\n",
    "def convert_presidio_to_layoutlm(presidio_bboxes):\n",
    "    tokens = []\n",
    "    ner_tags = []\n",
    "    bboxes = []\n",
    "    \n",
    "    entity_dict = {\n",
    "        \"PERSON\": \"full_name\",\n",
    "        \"LOCATION\": \"address\",\n",
    "        \"EMAIL_ADDRESS\": \"email_address\",\n",
    "        \"CREDIT_CARD\": \"payment_information\",\n",
    "        \"IBAN_CODE\": \"payment_information\",\n",
    "        \"PHONE_NUMBER\": \"phone_number\",\n",
    "    }\n",
    "    \n",
    "    for box in presidio_bboxes:\n",
    "        x0 = box.left\n",
    "        y0 = box.top\n",
    "        x1 = x0 + box.width\n",
    "        y1 = y0 + box.height\n",
    "        entity_type = box.entity_type\n",
    "        if entity_type not in entity_dict:\n",
    "            continue\n",
    "        tokens.append(\"-\")\n",
    "        ner_tag = \"B-\" + entity_dict[entity_type]\n",
    "        ner_tags.append(ner_tag)\n",
    "        bboxes.append([x0, y0, x1, y1])\n",
    "        \n",
    "    return tokens, ner_tags, bboxes\n",
    "\n",
    "def get_predictions_for_image(image_path):\n",
    "    image = Image.open(image_path).convert(\"RGB\")\n",
    "    redacted_image, bboxes = image_redactor.redact(image)\n",
    "    tokens, ner_tags, bboxes = convert_presidio_to_layoutlm(bboxes)\n",
    "    return {\n",
    "        \"tokens\": tokens,\n",
    "        \"bboxes\": bboxes,\n",
    "        \"ner_tags\": ner_tags,\n",
    "    }\n",
    "\n",
    "def draw_bboxes(image_path, predictions, add_text=False):\n",
    "        image = Image.open(image_path).convert(\"RGBA\")\n",
    "        overlay = Image.new(\"RGBA\", image.size, (255, 255, 255, 0))\n",
    "        draw = ImageDraw.Draw(overlay)\n",
    "        font = ImageFont.load_default()\n",
    "        for word, box, pred in zip(predictions[\"tokens\"], predictions[\"bboxes\"], predictions[\"ner_tags\"]):\n",
    "            if pred == \"O\":\n",
    "                continue\n",
    "            pred = pred.split(\"-\")[-1]\n",
    "            color = pii_entities_colors_rgba.get(pred, \"black\")\n",
    "            draw.rectangle(box, fill=color)\n",
    "            if add_text:\n",
    "                draw.text((box[0], box[1] - 10), f\"{pred}\", font=font, fill=color)\n",
    "        combined = Image.alpha_composite(image, overlay)\n",
    "        return combined\n",
    "\n",
    "def anonymize_images(images_path, labels_path, labeled_images_path):\n",
    "    os.makedirs(labels_path, exist_ok=True)\n",
    "    os.makedirs(labeled_images_path, exist_ok=True)\n",
    "    images = os.listdir(images_path)\n",
    "    for image in tqdm(images):\n",
    "        if not image.endswith(\".png\"):\n",
    "            continue\n",
    "        labels = get_predictions_for_image(os.path.join(images_path, image))\n",
    "        labeled_image = draw_bboxes(os.path.join(images_path, image), labels)\n",
    "        with open(f\"{labels_path}/{image.replace('.png', '.json')}\", \"w\") as f:\n",
    "            json.dump(labels, f, indent=4)\n",
    "        labeled_image.save(f\"{labeled_images_path}/{image}\")\n",
    "\n",
    "\n",
    "image_redactor = ImageRedactorEngine()"
   ],
   "id": "1b18314c330cb19e",
   "outputs": [],
   "execution_count": 27
  },
  {
   "metadata": {
    "ExecuteTime": {
     "end_time": "2025-04-03T12:36:10.852584Z",
     "start_time": "2025-04-03T12:34:14.877514Z"
    }
   },
   "cell_type": "code",
   "source": [
    "benchmark_images_path = \"data/funsd_benchmark/images\"\n",
    "benchmark_labels_path = \"data/presidio_funsd_results/layoutlm_labels\"\n",
    "benchmark_labeled_images_path = \"data/presidio_funsd_results/labeled_images\"\n",
    "\n",
    "anonymize_images(benchmark_images_path, benchmark_labels_path, benchmark_labeled_images_path)"
   ],
   "id": "41dc49d0e3f2753b",
   "outputs": [
    {
     "name": "stderr",
     "output_type": "stream",
     "text": [
      "100%|██████████| 255/255 [01:55<00:00,  2.20it/s]\n"
     ]
    }
   ],
   "execution_count": 28
  },
  {
   "metadata": {
    "ExecuteTime": {
     "end_time": "2025-04-03T12:38:00.898377Z",
     "start_time": "2025-04-03T12:38:00.893876Z"
    }
   },
   "cell_type": "code",
   "source": [
    "test_samples = [\n",
    "        {   \n",
    "            \"test_name\": \"benchmark\",\n",
    "            \"gt_labels\": \"evaluation/funsd_benchmark/layoutlm_labels\",\n",
    "            \"predicted_labels\": benchmark_labels_path,\n",
    "            \"image_views\": benchmark_labeled_images_path,\n",
    "            \"class_names\": [\n",
    "                \"full_name\", \"phone_number\", \"address\", \"email_address\"\n",
    "            ]\n",
    "        },\n",
    "]"
   ],
   "id": "c4229ce29036a141",
   "outputs": [],
   "execution_count": 30
  },
  {
   "metadata": {
    "ExecuteTime": {
     "end_time": "2025-04-03T12:38:26.415062Z",
     "start_time": "2025-04-03T12:38:02.974107Z"
    }
   },
   "cell_type": "code",
   "source": [
    "from src.w_b import count_and_log_all_metrics\n",
    "\n",
    "count_and_log_all_metrics(\n",
    "    samples=test_samples,\n",
    "    lm_model_name=f\"Presidio\",\n",
    "    ocr_model_name=\"\",\n",
    "    run_specification=\"benchmark\"\n",
    ")"
   ],
   "id": "c9f5c2a0311ac3ef",
   "outputs": [
    {
     "name": "stderr",
     "output_type": "stream",
     "text": [
      "\u001B[34m\u001B[1mwandb\u001B[0m: Using wandb-core as the SDK backend.  Please refer to https://wandb.me/wandb-core for more information.\n",
      "\u001B[34m\u001B[1mwandb\u001B[0m: Currently logged in as: \u001B[33malexandraroze2000\u001B[0m (\u001B[33malexandraroze\u001B[0m) to \u001B[32mhttps://api.wandb.ai\u001B[0m. Use \u001B[1m`wandb login --relogin`\u001B[0m to force relogin\n"
     ]
    },
    {
     "data": {
      "text/plain": [
       "<IPython.core.display.HTML object>"
      ],
      "text/html": [
       "Tracking run with wandb version 0.19.8"
      ]
     },
     "metadata": {},
     "output_type": "display_data"
    },
    {
     "data": {
      "text/plain": [
       "<IPython.core.display.HTML object>"
      ],
      "text/html": [
       "Run data is saved locally in <code>/Users/Aleksandra.Sorokovikova/Documents_anonymisation/workspace/document-anonymization/wandb/run-20250403_143806-0h93kuhj</code>"
      ]
     },
     "metadata": {},
     "output_type": "display_data"
    },
    {
     "data": {
      "text/plain": [
       "<IPython.core.display.HTML object>"
      ],
      "text/html": [
       "Syncing run <strong><a href='https://wandb.ai/alexandraroze/PII_Detection/runs/0h93kuhj' target=\"_blank\">Presidio__benchmark</a></strong> to <a href='https://wandb.ai/alexandraroze/PII_Detection' target=\"_blank\">Weights & Biases</a> (<a href='https://wandb.me/developer-guide' target=\"_blank\">docs</a>)<br>"
      ]
     },
     "metadata": {},
     "output_type": "display_data"
    },
    {
     "data": {
      "text/plain": [
       "<IPython.core.display.HTML object>"
      ],
      "text/html": [
       " View project at <a href='https://wandb.ai/alexandraroze/PII_Detection' target=\"_blank\">https://wandb.ai/alexandraroze/PII_Detection</a>"
      ]
     },
     "metadata": {},
     "output_type": "display_data"
    },
    {
     "data": {
      "text/plain": [
       "<IPython.core.display.HTML object>"
      ],
      "text/html": [
       " View run at <a href='https://wandb.ai/alexandraroze/PII_Detection/runs/0h93kuhj' target=\"_blank\">https://wandb.ai/alexandraroze/PII_Detection/runs/0h93kuhj</a>"
      ]
     },
     "metadata": {},
     "output_type": "display_data"
    },
    {
     "data": {
      "text/plain": [
       "<IPython.core.display.HTML object>"
      ],
      "text/html": []
     },
     "metadata": {},
     "output_type": "display_data"
    },
    {
     "data": {
      "text/plain": [
       "<IPython.core.display.HTML object>"
      ],
      "text/html": [
       " View run <strong style=\"color:#cdcd00\">Presidio__benchmark</strong> at: <a href='https://wandb.ai/alexandraroze/PII_Detection/runs/0h93kuhj' target=\"_blank\">https://wandb.ai/alexandraroze/PII_Detection/runs/0h93kuhj</a><br> View project at: <a href='https://wandb.ai/alexandraroze/PII_Detection' target=\"_blank\">https://wandb.ai/alexandraroze/PII_Detection</a><br>Synced 5 W&B file(s), 8 media file(s), 372 artifact file(s) and 0 other file(s)"
      ]
     },
     "metadata": {},
     "output_type": "display_data"
    },
    {
     "data": {
      "text/plain": [
       "<IPython.core.display.HTML object>"
      ],
      "text/html": [
       "Find logs at: <code>./wandb/run-20250403_143806-0h93kuhj/logs</code>"
      ]
     },
     "metadata": {},
     "output_type": "display_data"
    }
   ],
   "execution_count": 31
  },
  {
   "metadata": {},
   "cell_type": "code",
   "outputs": [],
   "execution_count": null,
   "source": "",
   "id": "e6c22ec1b7d999e8"
  }
 ],
 "metadata": {
  "kernelspec": {
   "display_name": "Python 3",
   "language": "python",
   "name": "python3"
  },
  "language_info": {
   "codemirror_mode": {
    "name": "ipython",
    "version": 2
   },
   "file_extension": ".py",
   "mimetype": "text/x-python",
   "name": "python",
   "nbconvert_exporter": "python",
   "pygments_lexer": "ipython2",
   "version": "2.7.6"
  }
 },
 "nbformat": 4,
 "nbformat_minor": 5
}
