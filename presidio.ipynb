{
 "cells": [
  {
   "metadata": {
    "ExecuteTime": {
     "end_time": "2025-05-12T14:43:31.355327Z",
     "start_time": "2025-05-12T14:43:26.346148Z"
    }
   },
   "cell_type": "code",
   "source": [
    "import os\n",
    "from tqdm import tqdm\n",
    "from PIL import Image\n",
    "import json\n",
    "from src.config import pii_entities_colors_rgba\n",
    "from PIL import ImageDraw, ImageFont\n",
    "from presidio_image_redactor import ImageRedactorEngine\n",
    "from src.evaluate import count_all_layoutlm_metrics\n",
    "\n",
    "\n",
    "def convert_presidio_to_layoutlm(presidio_bboxes):\n",
    "    tokens = []\n",
    "    ner_tags = []\n",
    "    bboxes = []\n",
    "    \n",
    "    entity_dict = {\n",
    "        \"PERSON\": \"full_name\",\n",
    "        \"LOCATION\": \"address\",\n",
    "        \"EMAIL_ADDRESS\": \"email_address\",\n",
    "        \"CREDIT_CARD\": \"payment_information\",\n",
    "        \"IBAN_CODE\": \"payment_information\",\n",
    "        \"PHONE_NUMBER\": \"phone_number\",\n",
    "    }\n",
    "    \n",
    "    for box in presidio_bboxes:\n",
    "        x0 = box.left\n",
    "        y0 = box.top\n",
    "        x1 = x0 + box.width\n",
    "        y1 = y0 + box.height\n",
    "        entity_type = box.entity_type\n",
    "        if entity_type not in entity_dict:\n",
    "            continue\n",
    "        tokens.append(\"-\")\n",
    "        ner_tag = \"B-\" + entity_dict[entity_type]\n",
    "        ner_tags.append(ner_tag)\n",
    "        bboxes.append([x0, y0, x1, y1])\n",
    "        \n",
    "    return tokens, ner_tags, bboxes\n",
    "\n",
    "def get_predictions_for_image(image_path):\n",
    "    image = Image.open(image_path).convert(\"RGB\")\n",
    "    redacted_image, bboxes = image_redactor.redact(image)\n",
    "    tokens, ner_tags, bboxes = convert_presidio_to_layoutlm(bboxes)\n",
    "    return {\n",
    "        \"tokens\": tokens,\n",
    "        \"bboxes\": bboxes,\n",
    "        \"ner_tags\": ner_tags,\n",
    "    }\n",
    "\n",
    "def draw_bboxes(image_path, predictions, add_text=False):\n",
    "        image = Image.open(image_path).convert(\"RGBA\")\n",
    "        overlay = Image.new(\"RGBA\", image.size, (255, 255, 255, 0))\n",
    "        draw = ImageDraw.Draw(overlay)\n",
    "        font = ImageFont.load_default()\n",
    "        for word, box, pred in zip(predictions[\"tokens\"], predictions[\"bboxes\"], predictions[\"ner_tags\"]):\n",
    "            if pred == \"O\":\n",
    "                continue\n",
    "            pred = pred.split(\"-\")[-1]\n",
    "            color = pii_entities_colors_rgba.get(pred, \"black\")\n",
    "            draw.rectangle(box, fill=color)\n",
    "            if add_text:\n",
    "                draw.text((box[0], box[1] - 10), f\"{pred}\", font=font, fill=color)\n",
    "        combined = Image.alpha_composite(image, overlay)\n",
    "        return combined\n",
    "\n",
    "def anonymize_images(images_path, labels_path, labeled_images_path):\n",
    "    os.makedirs(labels_path, exist_ok=True)\n",
    "    os.makedirs(labeled_images_path, exist_ok=True)\n",
    "    images = os.listdir(images_path)\n",
    "    for image in tqdm(images):\n",
    "        if not image.endswith(\".png\"):\n",
    "            continue\n",
    "        labels = get_predictions_for_image(os.path.join(images_path, image))\n",
    "        labeled_image = draw_bboxes(os.path.join(images_path, image), labels)\n",
    "        with open(f\"{labels_path}/{image.replace('.png', '.json')}\", \"w\") as f:\n",
    "            json.dump(labels, f, indent=4)\n",
    "        labeled_image.save(f\"{labeled_images_path}/{image}\")\n",
    "\n",
    "\n",
    "image_redactor = ImageRedactorEngine()"
   ],
   "id": "1b18314c330cb19e",
   "outputs": [],
   "execution_count": 1
  },
  {
   "metadata": {
    "ExecuteTime": {
     "end_time": "2025-05-12T14:45:40.286523Z",
     "start_time": "2025-05-12T14:43:33.082889Z"
    }
   },
   "cell_type": "code",
   "source": [
    "benchmark_images_path = \"data/funsd_benchmark/images\"\n",
    "path_to_gt_benchmark_labels = \"data/funsd_benchmark/layoutlm_labels\"\n",
    "predicted_benchmark_labels_folder = \"data/presidio_funsd_results/layoutlm_labels\"\n",
    "benchmark_labeled_images_path = \"data/presidio_funsd_results/labeled_images\"\n",
    "\n",
    "anonymize_images(benchmark_images_path, predicted_benchmark_labels_folder, benchmark_labeled_images_path)"
   ],
   "id": "41dc49d0e3f2753b",
   "outputs": [
    {
     "name": "stderr",
     "output_type": "stream",
     "text": [
      "100%|██████████| 255/255 [02:07<00:00,  2.01it/s]\n"
     ]
    }
   ],
   "execution_count": 2
  },
  {
   "metadata": {
    "ExecuteTime": {
     "end_time": "2025-05-12T14:45:59.697392Z",
     "start_time": "2025-05-12T14:45:55.911457Z"
    }
   },
   "cell_type": "code",
   "source": [
    "class_names = [\"full_name\", \"phone_number\", \"address\", \"email_address\"]\n",
    "metrics_per_documents, metrics_batch, overall_metrics = count_all_layoutlm_metrics(\n",
    "    path_to_gt_benchmark_labels, predicted_benchmark_labels_folder, class_names\n",
    ")\n",
    "metrics_per_documents"
   ],
   "id": "e6c22ec1b7d999e8",
   "outputs": [
    {
     "data": {
      "text/plain": [
       "{'full_name': defaultdict(float,\n",
       "             {'recall': 0.4675190913682867, 'precision': 0.4926969131353807}),\n",
       " 'phone_number': defaultdict(float,\n",
       "             {'recall': 0.501817430493901, 'precision': 0.6203667953667954}),\n",
       " 'address': defaultdict(float,\n",
       "             {'recall': 0.22604014294091196,\n",
       "              'precision': 0.47458247581198415}),\n",
       " 'email_address': defaultdict(float,\n",
       "             {'recall': 0.39186507936507936, 'precision': 0.4791666666666667})}"
      ]
     },
     "execution_count": 3,
     "metadata": {},
     "output_type": "execute_result"
    }
   ],
   "execution_count": 3
  },
  {
   "metadata": {},
   "cell_type": "code",
   "outputs": [],
   "execution_count": null,
   "source": "",
   "id": "1d12c3f25c8546cb"
  }
 ],
 "metadata": {
  "kernelspec": {
   "display_name": "Python 3",
   "language": "python",
   "name": "python3"
  },
  "language_info": {
   "codemirror_mode": {
    "name": "ipython",
    "version": 2
   },
   "file_extension": ".py",
   "mimetype": "text/x-python",
   "name": "python",
   "nbconvert_exporter": "python",
   "pygments_lexer": "ipython2",
   "version": "2.7.6"
  }
 },
 "nbformat": 4,
 "nbformat_minor": 5
}
