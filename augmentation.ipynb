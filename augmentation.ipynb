{
 "cells": [
  {
   "cell_type": "code",
   "id": "initial_id",
   "metadata": {
    "collapsed": true,
    "ExecuteTime": {
     "end_time": "2025-05-09T12:28:40.750906Z",
     "start_time": "2025-05-09T12:28:39.456754Z"
    }
   },
   "source": "from src.dataset_processing import return_image_with_bounding_boxes, launch_augmentation",
   "outputs": [],
   "execution_count": 1
  },
  {
   "metadata": {
    "jupyter": {
     "is_executing": true
    },
    "ExecuteTime": {
     "start_time": "2025-05-09T12:30:32.419673Z"
    }
   },
   "cell_type": "code",
   "source": [
    "launch_augmentation(\n",
    "    path_to_original_pdfs = \"dataset_clean/original\",\n",
    "    path_to_bounding_boxes = \"dataset_clean/entities\",\n",
    "    path_to_layoutlm_boxes = \"dataset_clean/layoutlm_labels\",\n",
    "    path_to_augmented_images =\"dataset_clean/augmented\",\n",
    "    num_of_images=1\n",
    ")"
   ],
   "id": "c5f40253cc765957",
   "outputs": [
    {
     "name": "stderr",
     "output_type": "stream",
     "text": [
      "  8%|▊         | 416/5027 [00:19<03:20, 23.01it/s]"
     ]
    }
   ],
   "execution_count": null
  },
  {
   "metadata": {
    "ExecuteTime": {
     "end_time": "2025-05-09T12:29:28.126138Z",
     "start_time": "2025-05-07T13:14:45.872199Z"
    }
   },
   "cell_type": "code",
   "source": [
    "img_name = \"form_text_simple_41a021e_0\"\n",
    "return_image_with_bounding_boxes(\n",
    "    f\"dataset/augmented/images/{img_name}.png\",\n",
    "    f\"dataset/augmented/layoutlm_labels/{img_name}.json\",\n",
    "    b_type=\"layoutlm\"\n",
    ")"
   ],
   "id": "bd633c719620c53c",
   "outputs": [],
   "execution_count": 7
  },
  {
   "metadata": {},
   "cell_type": "code",
   "outputs": [],
   "execution_count": null,
   "source": "",
   "id": "201474d6be8e18c7"
  }
 ],
 "metadata": {
  "kernelspec": {
   "display_name": "Python 3",
   "language": "python",
   "name": "python3"
  },
  "language_info": {
   "codemirror_mode": {
    "name": "ipython",
    "version": 2
   },
   "file_extension": ".py",
   "mimetype": "text/x-python",
   "name": "python",
   "nbconvert_exporter": "python",
   "pygments_lexer": "ipython2",
   "version": "2.7.6"
  }
 },
 "nbformat": 4,
 "nbformat_minor": 5
}
