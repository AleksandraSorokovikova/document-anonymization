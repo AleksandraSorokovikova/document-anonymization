{
 "cells": [
  {
   "cell_type": "code",
   "id": "initial_id",
   "metadata": {
    "collapsed": true,
    "ExecuteTime": {
     "end_time": "2025-05-07T12:57:20.629010Z",
     "start_time": "2025-05-07T12:57:17.740175Z"
    }
   },
   "source": "from src.dataset_processing import return_image_with_bounding_boxes, launch_augmentation",
   "outputs": [],
   "execution_count": 1
  },
  {
   "metadata": {
    "ExecuteTime": {
     "end_time": "2025-04-22T15:08:06.554273Z",
     "start_time": "2025-04-22T15:08:00.173200Z"
    }
   },
   "cell_type": "code",
   "source": [
    "launch_augmentation(\n",
    "    path_to_original_pdfs = \"dataset/original\",\n",
    "    path_to_bounding_boxes = \"dataset/entities\",\n",
    "    path_to_layoutlm_boxes = \"dataset/layoutlm_labels\",\n",
    "    path_to_augmented_images =\"dataset/augmented\",\n",
    "    num_of_images=1\n",
    ")"
   ],
   "id": "c5f40253cc765957",
   "outputs": [
    {
     "name": "stderr",
     "output_type": "stream",
     "text": [
      "100%|██████████| 100/100 [00:05<00:00, 17.78it/s]\n"
     ]
    }
   ],
   "execution_count": 2
  },
  {
   "metadata": {
    "ExecuteTime": {
     "end_time": "2025-05-07T13:14:45.980624Z",
     "start_time": "2025-05-07T13:14:45.872199Z"
    }
   },
   "cell_type": "code",
   "source": [
    "img_name = \"form_text_simple_41a021e_0\"\n",
    "return_image_with_bounding_boxes(\n",
    "    f\"dataset/augmented/images/{img_name}.png\",\n",
    "    f\"dataset/augmented/layoutlm_labels/{img_name}.json\",\n",
    "    b_type=\"layoutlm\"\n",
    ")"
   ],
   "id": "bd633c719620c53c",
   "outputs": [],
   "execution_count": 7
  },
  {
   "metadata": {},
   "cell_type": "code",
   "outputs": [],
   "execution_count": null,
   "source": "",
   "id": "201474d6be8e18c7"
  }
 ],
 "metadata": {
  "kernelspec": {
   "display_name": "Python 3",
   "language": "python",
   "name": "python3"
  },
  "language_info": {
   "codemirror_mode": {
    "name": "ipython",
    "version": 2
   },
   "file_extension": ".py",
   "mimetype": "text/x-python",
   "name": "python",
   "nbconvert_exporter": "python",
   "pygments_lexer": "ipython2",
   "version": "2.7.6"
  }
 },
 "nbformat": 4,
 "nbformat_minor": 5
}
