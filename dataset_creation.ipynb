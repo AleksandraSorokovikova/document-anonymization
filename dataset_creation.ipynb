{
 "cells": [
  {
   "cell_type": "code",
   "id": "initial_id",
   "metadata": {
    "collapsed": true,
    "ExecuteTime": {
     "end_time": "2025-05-11T16:55:53.827006Z",
     "start_time": "2025-05-11T16:55:52.332574Z"
    }
   },
   "source": [
    "from tqdm.notebook import tqdm\n",
    "from src.generate_document import PIIGenerator\n",
    "from dotenv import load_dotenv\n",
    "import os\n",
    "\n",
    "# Load OPENAI_API_KEY from .env file\n",
    "load_dotenv()\n",
    "\n",
    "number_of_documents_to_create = 1\n",
    "output_folder = \"dataset_test\"\n",
    "\n",
    "# If you want to use different signatures, you need to place \"signatures\" folder to the output folder.\n",
    "# Otherwise, default signature will be used.\n",
    "\n",
    "assert os.path.exists(output_folder), f\"Output folder {output_folder} does not exist.\"\n",
    "\n",
    "pii = PIIGenerator(output_folder=output_folder)"
   ],
   "outputs": [],
   "execution_count": 1
  },
  {
   "metadata": {
    "ExecuteTime": {
     "end_time": "2025-05-11T16:56:37.083142Z",
     "start_time": "2025-05-11T16:56:26.328153Z"
    }
   },
   "cell_type": "code",
   "source": [
    "# Create LATEX documents\n",
    "# To create LATEX documents, you need to have the xelatex package installed.\n",
    "for _ in tqdm(range(number_of_documents_to_create)):\n",
    "    try:\n",
    "        pii.create_document(doc_format=\"latex\", path=\"documents.json\")\n",
    "    except Exception as e:\n",
    "        print(e)"
   ],
   "id": "99981071d7d6baf",
   "outputs": [
    {
     "data": {
      "text/plain": [
       "  0%|          | 0/1 [00:00<?, ?it/s]"
      ],
      "application/vnd.jupyter.widget-view+json": {
       "version_major": 2,
       "version_minor": 0,
       "model_id": "5b7348dc84d14ee7847bf11c80067fff"
      }
     },
     "metadata": {},
     "output_type": "display_data"
    },
    {
     "name": "stdout",
     "output_type": "stream",
     "text": [
      "Error in LaTeX compilation: Command '['xelatex', '-interaction=batchmode', '-output-directory', 'dataset_test/original', 'dataset_test/original/multi_format_e250601.tex_temp.tex']' returned non-zero exit status 1.\n",
      "Error in LaTeX compilation: Command '['xelatex', '-interaction=batchmode', '-output-directory', 'dataset_test/original', 'dataset_test/original/multi_format_e250601.tex']' returned non-zero exit status 1.\n"
     ]
    }
   ],
   "execution_count": 2
  },
  {
   "metadata": {
    "ExecuteTime": {
     "end_time": "2025-05-11T16:56:54.380708Z",
     "start_time": "2025-05-11T16:56:39.533124Z"
    }
   },
   "cell_type": "code",
   "source": [
    "# Create HTML documents\n",
    "# To create HTML documents, you need to have the WeasyPrint package installed.\n",
    "for _ in tqdm(range(number_of_documents_to_create)):\n",
    "    try:\n",
    "        pii.create_document(doc_format=\"html\", path=\"documents.json\")\n",
    "    except Exception as e:\n",
    "        print(e)"
   ],
   "id": "ed855e2533e331e9",
   "outputs": [
    {
     "data": {
      "text/plain": [
       "  0%|          | 0/1 [00:00<?, ?it/s]"
      ],
      "application/vnd.jupyter.widget-view+json": {
       "version_major": 2,
       "version_minor": 0,
       "model_id": "d2f6de9f2a0f4da880c4d348808d8bfb"
      }
     },
     "metadata": {},
     "output_type": "display_data"
    }
   ],
   "execution_count": 3
  },
  {
   "metadata": {},
   "cell_type": "code",
   "outputs": [],
   "execution_count": null,
   "source": "",
   "id": "33985045685c24a6"
  }
 ],
 "metadata": {
  "kernelspec": {
   "display_name": "Python 3",
   "language": "python",
   "name": "python3"
  },
  "language_info": {
   "codemirror_mode": {
    "name": "ipython",
    "version": 2
   },
   "file_extension": ".py",
   "mimetype": "text/x-python",
   "name": "python",
   "nbconvert_exporter": "python",
   "pygments_lexer": "ipython2",
   "version": "2.7.6"
  }
 },
 "nbformat": 4,
 "nbformat_minor": 5
}
