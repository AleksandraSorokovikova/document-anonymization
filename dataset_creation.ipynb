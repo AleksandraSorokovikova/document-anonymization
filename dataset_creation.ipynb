{
 "cells": [
  {
   "metadata": {
    "collapsed": true,
    "ExecuteTime": {
     "end_time": "2025-05-09T10:21:55.839485Z",
     "start_time": "2025-05-09T10:21:55.015947Z"
    }
   },
   "cell_type": "code",
   "source": [
    "from tqdm.notebook import tqdm\n",
    "from src.generate_document import PIIGenerator\n",
    "from dotenv import load_dotenv\n",
    "import os\n",
    "\n",
    "# Load OPENAI_API_KEY from .env file\n",
    "load_dotenv()\n",
    "\n",
    "number_of_documents_to_create = 1\n",
    "output_folder = \"dataset_test\"\n",
    "\n",
    "# To create documents, you need to place \"signatures\" folder to the output folder.\n",
    "\n",
    "assert os.path.exists(output_folder), f\"Output folder {output_folder} does not exist.\"\n",
    "assert os.path.exists(os.path.join(output_folder, \"signatures\")), f\"Signatures folder {os.path.join(output_folder, 'signatures')} does not exist.\"\n",
    "\n",
    "pii = PIIGenerator(output_folder=output_folder)"
   ],
   "id": "initial_id",
   "outputs": [],
   "execution_count": 1
  },
  {
   "metadata": {
    "ExecuteTime": {
     "end_time": "2025-05-09T10:22:14.170228Z",
     "start_time": "2025-05-09T10:21:56.437354Z"
    }
   },
   "cell_type": "code",
   "source": [
    "# Create LATEX documents\n",
    "# To create LATEX documents, you need to have the xelatex package installed.\n",
    "for _ in tqdm(range(number_of_documents_to_create)):\n",
    "    try:\n",
    "        pii.create_document(doc_format=\"latex\", path=\"documents.json\")\n",
    "    except Exception as e:\n",
    "        print(e)"
   ],
   "id": "ff07cdf877d845a5",
   "outputs": [
    {
     "data": {
      "text/plain": [
       "  0%|          | 0/1 [00:00<?, ?it/s]"
      ],
      "application/vnd.jupyter.widget-view+json": {
       "version_major": 2,
       "version_minor": 0,
       "model_id": "ae7b202c464641a781c90a0fa5d9af33"
      }
     },
     "metadata": {},
     "output_type": "display_data"
    }
   ],
   "execution_count": 2
  },
  {
   "metadata": {
    "ExecuteTime": {
     "end_time": "2025-05-09T10:23:05.526239Z",
     "start_time": "2025-05-09T10:22:45.241767Z"
    }
   },
   "cell_type": "code",
   "source": [
    "# Create HTML documents\n",
    "# To create HTML documents, you need to have the WeasyPrint package installed.\n",
    "for _ in tqdm(range(number_of_documents_to_create)):\n",
    "    try:\n",
    "        pii.create_document(doc_format=\"html\", path=\"documents.json\")\n",
    "    except Exception as e:\n",
    "        print(e)"
   ],
   "id": "29acfdcd5da5449d",
   "outputs": [
    {
     "data": {
      "text/plain": [
       "  0%|          | 0/1 [00:00<?, ?it/s]"
      ],
      "application/vnd.jupyter.widget-view+json": {
       "version_major": 2,
       "version_minor": 0,
       "model_id": "0b3789a8536240e287d326cb93fa2c5c"
      }
     },
     "metadata": {},
     "output_type": "display_data"
    }
   ],
   "execution_count": 3
  },
  {
   "metadata": {},
   "cell_type": "code",
   "outputs": [],
   "execution_count": null,
   "source": "",
   "id": "91f59ccf534f4f1"
  }
 ],
 "metadata": {
  "kernelspec": {
   "display_name": "Python 3",
   "language": "python",
   "name": "python3"
  },
  "language_info": {
   "codemirror_mode": {
    "name": "ipython",
    "version": 2
   },
   "file_extension": ".py",
   "mimetype": "text/x-python",
   "name": "python",
   "nbconvert_exporter": "python",
   "pygments_lexer": "ipython2",
   "version": "2.7.6"
  }
 },
 "nbformat": 4,
 "nbformat_minor": 5
}
