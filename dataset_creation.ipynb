{
 "cells": [
  {
   "metadata": {
    "collapsed": true,
    "ExecuteTime": {
     "end_time": "2025-02-05T19:03:17.160673Z",
     "start_time": "2025-02-05T19:03:16.172634Z"
    }
   },
   "cell_type": "code",
   "source": [
    "from tqdm.notebook import tqdm\n",
    "from src.generate_document import PIIGenerator\n",
    "from dotenv import load_dotenv\n",
    "import os\n",
    "\n",
    "# Load OPENAI_API_KEY from .env file\n",
    "load_dotenv()\n",
    "\n",
    "number_of_documents_to_create = 10\n",
    "output_folder = \"dataset_test\"\n",
    "\n",
    "# To create documents, you need to place \"signatures\" folder to the output folder.\n",
    "\n",
    "assert os.path.exists(output_folder), f\"Output folder {output_folder} does not exist.\"\n",
    "assert os.path.exists(os.path.join(output_folder, \"signatures\")), f\"Signatures folder {os.path.join(output_folder, 'signatures')} does not exist.\"\n",
    "\n",
    "pii = PIIGenerator(output_folder=\"dataset\")"
   ],
   "id": "initial_id",
   "outputs": [],
   "execution_count": 1
  },
  {
   "metadata": {
    "ExecuteTime": {
     "end_time": "2025-05-09T10:13:20.082890Z",
     "start_time": "2025-05-09T10:13:20.079717Z"
    }
   },
   "cell_type": "code",
   "source": [
    "# Create LATEX documents\n",
    "# To create LATEX documents, you need to have the xelatex package installed.\n",
    "for _ in tqdm(range(number_of_documents_to_create)):\n",
    "    try:\n",
    "        pii.create_document(doc_format=\"latex\", path=\"documents.json\")\n",
    "    except Exception as e:\n",
    "        print(e)"
   ],
   "id": "ff07cdf877d845a5",
   "outputs": [],
   "execution_count": 1
  },
  {
   "metadata": {
    "ExecuteTime": {
     "end_time": "2025-02-06T03:48:38.966765Z",
     "start_time": "2025-02-05T21:51:42.505056Z"
    }
   },
   "cell_type": "code",
   "source": [
    "# Create HTML documents\n",
    "# To create HTML documents, you need to have the WeasyPrint package installed.\n",
    "for _ in tqdm(range(number_of_documents_to_create)):\n",
    "    try:\n",
    "        pii.create_document(doc_format=\"html\", path=\"documents.json\")\n",
    "    except Exception as e:\n",
    "        print(e)"
   ],
   "id": "29acfdcd5da5449d",
   "outputs": [
    {
     "data": {
      "text/plain": [
       "  0%|          | 0/1600 [00:00<?, ?it/s]"
      ],
      "application/vnd.jupyter.widget-view+json": {
       "version_major": 2,
       "version_minor": 0,
       "model_id": "a62a371c93784659a1a246529ffe6551"
      }
     },
     "metadata": {},
     "output_type": "display_data"
    },
    {
     "name": "stdout",
     "output_type": "stream",
     "text": [
      "2637\n"
     ]
    }
   ],
   "execution_count": 3
  },
  {
   "metadata": {},
   "cell_type": "code",
   "outputs": [],
   "execution_count": null,
   "source": "",
   "id": "91f59ccf534f4f1"
  }
 ],
 "metadata": {
  "kernelspec": {
   "display_name": "Python 3",
   "language": "python",
   "name": "python3"
  },
  "language_info": {
   "codemirror_mode": {
    "name": "ipython",
    "version": 2
   },
   "file_extension": ".py",
   "mimetype": "text/x-python",
   "name": "python",
   "nbconvert_exporter": "python",
   "pygments_lexer": "ipython2",
   "version": "2.7.6"
  }
 },
 "nbformat": 4,
 "nbformat_minor": 5
}
