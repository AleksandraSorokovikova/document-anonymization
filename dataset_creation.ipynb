{
 "cells": [
  {
   "cell_type": "code",
   "id": "initial_id",
   "metadata": {
    "collapsed": true,
    "ExecuteTime": {
     "end_time": "2025-05-13T10:40:48.221312Z",
     "start_time": "2025-05-13T10:40:46.877116Z"
    }
   },
   "source": [
    "from tqdm.notebook import tqdm\n",
    "from src.generate_document import PIIGenerator\n",
    "from dotenv import load_dotenv\n",
    "import os\n",
    "\n",
    "# Load OPENAI_API_KEY from .env file\n",
    "load_dotenv()\n",
    "\n",
    "number_of_documents_to_create = 1\n",
    "output_folder = \"dataset_test\"\n",
    "\n",
    "os.makedirs(output_folder, exist_ok=True)\n",
    "\n",
    "# If you want to use different signatures, you need to place \"signatures\" folder to the output folder.\n",
    "# Otherwise, default signature will be used.\n",
    "\n",
    "assert os.path.exists(output_folder), f\"Output folder {output_folder} does not exist.\"\n",
    "\n",
    "pii = PIIGenerator(output_folder=output_folder)"
   ],
   "outputs": [],
   "execution_count": 1
  },
  {
   "metadata": {
    "ExecuteTime": {
     "end_time": "2025-05-13T10:41:01.379898Z",
     "start_time": "2025-05-13T10:40:48.229354Z"
    }
   },
   "cell_type": "code",
   "source": [
    "# Create LATEX documents\n",
    "# To create LATEX documents, you need to have the xelatex package installed.\n",
    "for _ in tqdm(range(number_of_documents_to_create)):\n",
    "    try:\n",
    "        pii.create_document(doc_format=\"latex\", path=\"documents.json\")\n",
    "    except Exception as e:\n",
    "        print(e)"
   ],
   "id": "99981071d7d6baf",
   "outputs": [
    {
     "data": {
      "text/plain": [
       "  0%|          | 0/1 [00:00<?, ?it/s]"
      ],
      "application/vnd.jupyter.widget-view+json": {
       "version_major": 2,
       "version_minor": 0,
       "model_id": "680e21badcc544f6a1f63140f0905245"
      }
     },
     "metadata": {},
     "output_type": "display_data"
    }
   ],
   "execution_count": 2
  },
  {
   "metadata": {
    "ExecuteTime": {
     "end_time": "2025-05-13T10:41:15.811021Z",
     "start_time": "2025-05-13T10:41:01.448902Z"
    }
   },
   "cell_type": "code",
   "source": [
    "# Create HTML documents\n",
    "# To create HTML documents, you need to have the WeasyPrint package installed.\n",
    "for _ in tqdm(range(number_of_documents_to_create)):\n",
    "    try:\n",
    "        pii.create_document(doc_format=\"html\", path=\"documents.json\")\n",
    "    except Exception as e:\n",
    "        print(e)"
   ],
   "id": "ed855e2533e331e9",
   "outputs": [
    {
     "data": {
      "text/plain": [
       "  0%|          | 0/1 [00:00<?, ?it/s]"
      ],
      "application/vnd.jupyter.widget-view+json": {
       "version_major": 2,
       "version_minor": 0,
       "model_id": "47c3fd0bdb0f477f828e896c000823ab"
      }
     },
     "metadata": {},
     "output_type": "display_data"
    }
   ],
   "execution_count": 3
  },
  {
   "metadata": {},
   "cell_type": "code",
   "outputs": [],
   "execution_count": null,
   "source": "",
   "id": "33985045685c24a6"
  }
 ],
 "metadata": {
  "kernelspec": {
   "display_name": "Python 3",
   "language": "python",
   "name": "python3"
  },
  "language_info": {
   "codemirror_mode": {
    "name": "ipython",
    "version": 2
   },
   "file_extension": ".py",
   "mimetype": "text/x-python",
   "name": "python",
   "nbconvert_exporter": "python",
   "pygments_lexer": "ipython2",
   "version": "2.7.6"
  }
 },
 "nbformat": 4,
 "nbformat_minor": 5
}
