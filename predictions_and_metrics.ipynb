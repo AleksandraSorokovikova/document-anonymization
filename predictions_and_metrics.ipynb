{
 "cells": [
  {
   "cell_type": "code",
   "execution_count": 1,
   "metadata": {
    "ExecuteTime": {
     "end_time": "2025-03-26T12:45:04.643764Z",
     "start_time": "2025-03-26T12:45:01.315575Z"
    }
   },
   "outputs": [],
   "source": [
    "import json\n",
    "from tqdm import tqdm\n",
    "from PIL import Image\n",
    "from src.process import create_image_view\n",
    "\n",
    "import warnings\n",
    "warnings.filterwarnings(\"ignore\")\n",
    "\n",
    "from src.AnonymizationInference import AnonymizationInference\n",
    "import os\n",
    "from src.w_b import count_and_log_all_metrics\n",
    "from src.config import funsd_label_list\n",
    "\n",
    "\n",
    "def get_layoutlm_predictions(\n",
    "            inference, images, path_to_image, path_to_gt_labeled_images, labels_saving_path, image_views_path, path_to_gt_labels=None,\n",
    "    ):\n",
    "        for image in tqdm(images):\n",
    "\n",
    "            if not image.endswith(\".png\"):\n",
    "                continue\n",
    "\n",
    "            image_path = os.path.join(path_to_image, image)\n",
    "\n",
    "            if path_to_gt_labels:\n",
    "                with open(os.path.join(path_to_gt_labels, image.replace(\".png\", \".json\"))) as f:\n",
    "                    gt_labels = json.load(f)\n",
    "                words = gt_labels[\"tokens\"]\n",
    "                boxes = gt_labels[\"bboxes\"]\n",
    "                \n",
    "                predictions = inference.predict(image_path, words, boxes)\n",
    "            else:\n",
    "                predictions = inference.predict(image_path)\n",
    "            \n",
    "            img_with_pred_bboxes = inference.draw_bboxes(image_path, predictions)\n",
    "            img_with_gt_bboxes = Image.open(os.path.join(path_to_gt_labeled_images, image))\n",
    "            create_image_view(img_with_gt_bboxes, img_with_pred_bboxes, f\"{image_views_path}/{image}\")\n",
    "            label_name = image.replace(\".png\", \".json\")\n",
    "            with open(f\"{labels_saving_path}/{label_name}\", \"w\") as f:\n",
    "                json.dump(predictions, f, indent=4)"
   ]
  },
  {
   "cell_type": "markdown",
   "metadata": {},
   "source": [
    "## Getting predictions"
   ]
  },
  {
   "cell_type": "code",
   "execution_count": 2,
   "metadata": {
    "ExecuteTime": {
     "end_time": "2025-03-26T12:59:54.467129Z",
     "start_time": "2025-03-26T12:59:54.358547Z"
    }
   },
   "outputs": [],
   "source": [
    "name = \"layoutlm_best\"\n",
    "\n",
    "# models\n",
    "detection_model=\"fast_base\"\n",
    "recognition_model=\"master\"\n",
    "ocr_model = f\"{detection_model}_{recognition_model}\"\n",
    "layoutlm_model = \"best_finetuned\"\n",
    "lm_model_weights = f\"weights/{name}\"\n",
    "signature_model_weights = \"weights/yolo_signatures.pt\"\n",
    "\n",
    "# paths\n",
    "path_to_results = \"results\"\n",
    "path_to_benchmark = \"data/funsd_benchmark\"\n",
    "\n",
    "# benchmark\n",
    "path_to_benchmark_images = os.path.join(path_to_benchmark, \"images\")\n",
    "path_to_gt_benchmark_labeled_images = os.path.join(path_to_benchmark, \"labeled_images\")\n",
    "path_to_gt_benchmark_labels = os.path.join(path_to_benchmark, \"layoutlm_labels\")\n",
    "predicted_benchmark_image_view_path = os.path.join(path_to_results, f\"benchmark_image_views_{ocr_model}\")\n",
    "predicted_benchmark_labels_folder = os.path.join(path_to_results, f\"benchmark_layoutlm_labels_{ocr_model}\")\n",
    "benchmark_images = os.listdir(path_to_benchmark_images)\n",
    "\n",
    "os.makedirs(path_to_results, exist_ok=True)\n",
    "os.makedirs(predicted_benchmark_labels_folder, exist_ok=True)\n",
    "os.makedirs(predicted_benchmark_image_view_path, exist_ok=True)"
   ]
  },
  {
   "cell_type": "code",
   "execution_count": 8,
   "metadata": {},
   "outputs": [
    {
     "name": "stderr",
     "output_type": "stream",
     "text": [
      "100%|██████████| 255/255 [00:29<00:00,  8.59it/s]\n"
     ]
    }
   ],
   "source": [
    "inference = AnonymizationInference(\n",
    "    detection_model=detection_model,\n",
    "    recognition_model=recognition_model,\n",
    "    path_to_layoutlm_weights=lm_model_weights,\n",
    "    path_to_signature_weights=signature_model_weights,\n",
    "    label_list=funsd_label_list,\n",
    ")\n",
    "\n",
    "get_layoutlm_predictions(\n",
    "    inference=inference,\n",
    "    images=benchmark_images, \n",
    "    path_to_image=path_to_benchmark_images, \n",
    "    path_to_gt_labeled_images=path_to_gt_benchmark_labeled_images, \n",
    "    labels_saving_path=predicted_benchmark_labels_folder, \n",
    "    image_views_path=predicted_benchmark_image_view_path,\n",
    "    path_to_gt_labels=path_to_gt_benchmark_labels,\n",
    ")"
   ]
  },
  {
   "cell_type": "markdown",
   "metadata": {},
   "source": [
    "## Metrics"
   ]
  },
  {
   "cell_type": "code",
   "execution_count": 3,
   "metadata": {},
   "outputs": [],
   "source": [
    "test_samples = [\n",
    "        {   \n",
    "            \"test_name\": \"benchmark\",\n",
    "            \"gt_labels\": path_to_gt_benchmark_labels,\n",
    "            \"predicted_labels\": predicted_benchmark_labels_folder,\n",
    "            \"image_views\": predicted_benchmark_image_view_path,\n",
    "            \"class_names\": [\n",
    "                \"full_name\", \"phone_number\", \"address\", \"company_name\", \"email_address\", \"signature\"\n",
    "            ]\n",
    "        },\n",
    "]"
   ]
  },
  {
   "cell_type": "code",
   "metadata": {
    "ExecuteTime": {
     "end_time": "2025-05-09T10:04:33.533112Z",
     "start_time": "2025-05-09T10:04:33.522589Z"
    }
   },
   "source": [
    "count_and_log_all_metrics(\n",
    "    samples=test_samples,\n",
    "    lm_model_name=f\"LayoutLM_{layoutlm_model}\",\n",
    "    ocr_model_name=ocr_model,\n",
    "    run_specification=\"trained_on_invoices\"\n",
    ")"
   ],
   "outputs": [],
   "execution_count": 1
  },
  {
   "cell_type": "code",
   "execution_count": null,
   "metadata": {},
   "outputs": [],
   "source": []
  }
 ],
 "metadata": {
  "kernelspec": {
   "display_name": "venv",
   "language": "python",
   "name": "python3"
  },
  "language_info": {
   "codemirror_mode": {
    "name": "ipython",
    "version": 3
   },
   "file_extension": ".py",
   "mimetype": "text/x-python",
   "name": "python",
   "nbconvert_exporter": "python",
   "pygments_lexer": "ipython3",
   "version": "3.10.12"
  }
 },
 "nbformat": 4,
 "nbformat_minor": 2
}
